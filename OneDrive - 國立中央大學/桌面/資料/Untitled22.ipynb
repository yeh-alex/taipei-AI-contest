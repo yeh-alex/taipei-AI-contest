{
  "cells": [
    {
      "cell_type": "code",
      "execution_count": 1,
      "metadata": {
        "colab": {
          "base_uri": "https://localhost:8080/"
        },
        "id": "DKfT_0CC427s",
        "outputId": "ae9b5cec-eb8d-4519-df63-7475d8e08d72"
      },
      "outputs": [
        {
          "name": "stdout",
          "output_type": "stream",
          "text": [
            "cost 2850.0\n"
          ]
        }
      ],
      "source": [
        "cost = 3000\n",
        "if cost > 2000:\n",
        "  cost = cost * 0.95\n",
        "  print('cost',cost)"
      ]
    },
    {
      "cell_type": "code",
      "execution_count": 6,
      "metadata": {
        "colab": {
          "base_uri": "https://localhost:8080/"
        },
        "id": "pWKlKIESQkvc",
        "outputId": "67eb6305-7aac-42f7-fcec-4c20d2039582"
      },
      "outputs": [
        {
          "name": "stdout",
          "output_type": "stream",
          "text": [
            "1257\n"
          ]
        }
      ],
      "source": [
        "import pandas as pd\n",
        "\n",
        "# 讀取 Excel 檔案（請修改 \"your_file.xlsx\" 為實際檔案名稱）\n",
        "df = pd.read_excel(\"復亨銷售紀錄-20250303.xlsx\")\n",
        "\n",
        "# 確保 '交易日期' 欄位為 datetime 格式\n",
        "df[\"銷貨日期\"] = pd.to_datetime(df[\"銷貨日期\"])\n",
        "\n",
        "# 篩選交易日期大於 2021 年（即 2022-01-01 之後）\n",
        "filtered_df = df[(df[\"銷貨日期\"] < \"2021-12-31\") & (df[\"銷貨日期\"] > \"2020-12-31\")]\n",
        "\n",
        "# 取得不重複的顧客代號\n",
        "distinct_customers = filtered_df[\"客戶代號\"].nunique()\n",
        "\n",
        "# 顯示結果\n",
        "print(distinct_customers)\n",
        "\n",
        "\n",
        "\n",
        "\n"
      ]
    },
    {
      "cell_type": "code",
      "execution_count": 8,
      "metadata": {
        "colab": {
          "base_uri": "https://localhost:8080/",
          "height": 424
        },
        "id": "AfD7dTg2jX0-",
        "outputId": "334a31cc-db2b-40ac-bb36-74556e502858"
      },
      "outputs": [
        {
          "data": {
            "text/html": [
              "<div>\n",
              "<style scoped>\n",
              "    .dataframe tbody tr th:only-of-type {\n",
              "        vertical-align: middle;\n",
              "    }\n",
              "\n",
              "    .dataframe tbody tr th {\n",
              "        vertical-align: top;\n",
              "    }\n",
              "\n",
              "    .dataframe thead th {\n",
              "        text-align: right;\n",
              "    }\n",
              "</style>\n",
              "<table border=\"1\" class=\"dataframe\">\n",
              "  <thead>\n",
              "    <tr style=\"text-align: right;\">\n",
              "      <th></th>\n",
              "      <th>7</th>\n",
              "      <th>8</th>\n",
              "    </tr>\n",
              "  </thead>\n",
              "  <tbody>\n",
              "    <tr>\n",
              "      <th>0</th>\n",
              "      <td>4</td>\n",
              "      <td>12600</td>\n",
              "    </tr>\n",
              "    <tr>\n",
              "      <th>1</th>\n",
              "      <td>3</td>\n",
              "      <td>8565</td>\n",
              "    </tr>\n",
              "    <tr>\n",
              "      <th>2</th>\n",
              "      <td>1</td>\n",
              "      <td>3400</td>\n",
              "    </tr>\n",
              "    <tr>\n",
              "      <th>3</th>\n",
              "      <td>5</td>\n",
              "      <td>7860</td>\n",
              "    </tr>\n",
              "    <tr>\n",
              "      <th>4</th>\n",
              "      <td>2</td>\n",
              "      <td>2610</td>\n",
              "    </tr>\n",
              "    <tr>\n",
              "      <th>...</th>\n",
              "      <td>...</td>\n",
              "      <td>...</td>\n",
              "    </tr>\n",
              "    <tr>\n",
              "      <th>5029</th>\n",
              "      <td>2</td>\n",
              "      <td>1620</td>\n",
              "    </tr>\n",
              "    <tr>\n",
              "      <th>5030</th>\n",
              "      <td>4</td>\n",
              "      <td>2180</td>\n",
              "    </tr>\n",
              "    <tr>\n",
              "      <th>5031</th>\n",
              "      <td>2</td>\n",
              "      <td>2560</td>\n",
              "    </tr>\n",
              "    <tr>\n",
              "      <th>5032</th>\n",
              "      <td>4</td>\n",
              "      <td>3045</td>\n",
              "    </tr>\n",
              "    <tr>\n",
              "      <th>5033</th>\n",
              "      <td>7</td>\n",
              "      <td>6280</td>\n",
              "    </tr>\n",
              "  </tbody>\n",
              "</table>\n",
              "<p>5034 rows × 2 columns</p>\n",
              "</div>"
            ],
            "text/plain": [
              "      7      8\n",
              "0     4  12600\n",
              "1     3   8565\n",
              "2     1   3400\n",
              "3     5   7860\n",
              "4     2   2610\n",
              "...  ..    ...\n",
              "5029  2   1620\n",
              "5030  4   2180\n",
              "5031  2   2560\n",
              "5032  4   3045\n",
              "5033  7   6280\n",
              "\n",
              "[5034 rows x 2 columns]"
            ]
          },
          "execution_count": 8,
          "metadata": {},
          "output_type": "execute_result"
        }
      ],
      "source": [
        "import pandas as pd\n",
        "from sklearn.model_selection import train_test_split\n",
        "from sklearn.svm import SVC\n",
        "from sklearn.preprocessing import StandardScaler\n",
        "from sklearn.metrics import accuracy_score, classification_report\n",
        "\n",
        "# 指定 Excel 檔案路徑\n",
        "file_paths = [\n",
        "    \"2020~2021_label.xlsx\",\n",
        "    \"2021~2022_label.xlsx\",\n",
        "    \"2022~2023_label.xlsx\"\n",
        "]\n",
        "\n",
        "# 讀取所有 Excel，忽略標題（header=None）\n",
        "df_list = [pd.read_excel(file, skiprows=1, header=None) for file in file_paths]\n",
        "\n",
        "# 縱向合併（忽略欄位名稱）\n",
        "df_combined = pd.concat(df_list, ignore_index=True)\n",
        "\n",
        "test_data = pd.read_excel(\"2023~2024_label.xlsx\")\n",
        "\n",
        "# 假設最後一欄是標籤 (Label)，其餘為特徵 (Features)\n",
        "X_train = df_combined.iloc[:,  -2:]  # 取所有列，除了最後一列\n",
        "# y_train = train_data['布林值']   # 取最後一列作為標籤\n",
        "y_train = df_combined.iloc[:,  -3:-2]   # 取最後一列作為標籤\n",
        "\n",
        "X_test = test_data.iloc[:, -2:]\n",
        "# y_test = test_data['布林值']\n",
        "y_test = test_data.iloc[:,  -3:-2]\n",
        "\n",
        "X_train"
      ]
    },
    {
      "cell_type": "code",
      "execution_count": 9,
      "metadata": {
        "colab": {
          "base_uri": "https://localhost:8080/"
        },
        "id": "uPpgWjbAjo-H",
        "outputId": "068ec38f-e87e-4f14-fad1-eff4e436743b"
      },
      "outputs": [
        {
          "name": "stderr",
          "output_type": "stream",
          "text": [
            "c:\\Users\\LG\\AppData\\Local\\Programs\\Python\\Python313\\Lib\\site-packages\\sklearn\\utils\\validation.py:1408: DataConversionWarning: A column-vector y was passed when a 1d array was expected. Please change the shape of y to (n_samples, ), for example using ravel().\n",
            "  y = column_or_1d(y, warn=True)\n"
          ]
        },
        {
          "name": "stdout",
          "output_type": "stream",
          "text": [
            "測試準確率: 0.5535\n",
            "分類報告:\n",
            "              precision    recall  f1-score   support\n",
            "\n",
            "           0       0.55      1.00      0.71       602\n",
            "           1       0.40      0.01      0.01       318\n",
            "           2       1.00      0.01      0.02       173\n",
            "\n",
            "    accuracy                           0.55      1093\n",
            "   macro avg       0.65      0.34      0.25      1093\n",
            "weighted avg       0.58      0.55      0.40      1093\n",
            "\n"
          ]
        },
        {
          "name": "stderr",
          "output_type": "stream",
          "text": [
            "c:\\Users\\LG\\AppData\\Local\\Programs\\Python\\Python313\\Lib\\site-packages\\sklearn\\utils\\validation.py:2732: UserWarning: X has feature names, but SVC was fitted without feature names\n",
            "  warnings.warn(\n"
          ]
        }
      ],
      "source": [
        "# 標準化特徵值\n",
        "# scaler = StandardScaler()\n",
        "# X_train = scaler.fit_transform(X_train)\n",
        "# X_test = scaler.transform(X_test)\n",
        "\n",
        "# 建立 SVM 模型\n",
        "svm_model = SVC(kernel='poly', C=0.7, gamma='scale')\n",
        "svm_model.fit(X_train, y_train)\n",
        "\n",
        "# 預測測試集\n",
        "y_pred = svm_model.predict(X_test)\n",
        "\n",
        "# 計算準確率與分類報告\n",
        "accuracy = accuracy_score(y_test, y_pred)\n",
        "report = classification_report(y_test, y_pred)\n",
        "\n",
        "print(f\"測試準確率: {accuracy:.4f}\")\n",
        "print(\"分類報告:\")\n",
        "print(report)\n"
      ]
    },
    {
      "cell_type": "code",
      "execution_count": 11,
      "metadata": {
        "colab": {
          "base_uri": "https://localhost:8080/"
        },
        "id": "qVwsh1IAlhL6",
        "outputId": "819decb4-38cb-43d8-8a3b-b8c3f4c63b9f"
      },
      "outputs": [
        {
          "name": "stdout",
          "output_type": "stream",
          "text": [
            "預測錯誤的樣本:\n",
            "      2023年總次數  2023年總金額  actual_label  predicted_label\n",
            "4            6      8068             0                0\n",
            "8            5      4318             0                0\n",
            "9            2      1260             0                0\n",
            "13           9      7118             0                0\n",
            "17           4      1985             0                0\n",
            "...        ...       ...           ...              ...\n",
            "1071         2      2180             0                0\n",
            "1072         2      1260             0                0\n",
            "1074         6      7350             0                0\n",
            "1075         5      3695             0                0\n",
            "1090         3      2520             0                0\n",
            "\n",
            "[605 rows x 4 columns]\n"
          ]
        }
      ],
      "source": [
        "# 修正 test_data 索引篩選的錯誤邏輯\n",
        "test_data = pd.DataFrame(X_test)  # 假設 test_data 來自 X_test\n",
        "test_data['actual_label'] = y_test\n",
        "test_data['predicted_label'] = y_pred\n",
        "\n",
        "# 過濾出預測錯誤的樣本\n",
        "errors = test_data[test_data['actual_label'] == test_data['predicted_label']]\n",
        "\n",
        "print(\"預測錯誤的樣本:\")\n",
        "print(errors)"
      ]
    },
    {
      "cell_type": "code",
      "execution_count": 12,
      "metadata": {
        "colab": {
          "base_uri": "https://localhost:8080/",
          "height": 424
        },
        "id": "DfePWSnp-lYq",
        "outputId": "570f5fc6-8060-4c99-f40d-1acfe5aeb0f4"
      },
      "outputs": [
        {
          "data": {
            "text/html": [
              "<div>\n",
              "<style scoped>\n",
              "    .dataframe tbody tr th:only-of-type {\n",
              "        vertical-align: middle;\n",
              "    }\n",
              "\n",
              "    .dataframe tbody tr th {\n",
              "        vertical-align: top;\n",
              "    }\n",
              "\n",
              "    .dataframe thead th {\n",
              "        text-align: right;\n",
              "    }\n",
              "</style>\n",
              "<table border=\"1\" class=\"dataframe\">\n",
              "  <thead>\n",
              "    <tr style=\"text-align: right;\">\n",
              "      <th></th>\n",
              "      <th>布林值</th>\n",
              "    </tr>\n",
              "  </thead>\n",
              "  <tbody>\n",
              "    <tr>\n",
              "      <th>0</th>\n",
              "      <td>2</td>\n",
              "    </tr>\n",
              "    <tr>\n",
              "      <th>1</th>\n",
              "      <td>1</td>\n",
              "    </tr>\n",
              "    <tr>\n",
              "      <th>2</th>\n",
              "      <td>1</td>\n",
              "    </tr>\n",
              "    <tr>\n",
              "      <th>3</th>\n",
              "      <td>2</td>\n",
              "    </tr>\n",
              "    <tr>\n",
              "      <th>4</th>\n",
              "      <td>0</td>\n",
              "    </tr>\n",
              "    <tr>\n",
              "      <th>...</th>\n",
              "      <td>...</td>\n",
              "    </tr>\n",
              "    <tr>\n",
              "      <th>1088</th>\n",
              "      <td>1</td>\n",
              "    </tr>\n",
              "    <tr>\n",
              "      <th>1089</th>\n",
              "      <td>1</td>\n",
              "    </tr>\n",
              "    <tr>\n",
              "      <th>1090</th>\n",
              "      <td>0</td>\n",
              "    </tr>\n",
              "    <tr>\n",
              "      <th>1091</th>\n",
              "      <td>1</td>\n",
              "    </tr>\n",
              "    <tr>\n",
              "      <th>1092</th>\n",
              "      <td>1</td>\n",
              "    </tr>\n",
              "  </tbody>\n",
              "</table>\n",
              "<p>1093 rows × 1 columns</p>\n",
              "</div>"
            ],
            "text/plain": [
              "      布林值\n",
              "0       2\n",
              "1       1\n",
              "2       1\n",
              "3       2\n",
              "4       0\n",
              "...   ...\n",
              "1088    1\n",
              "1089    1\n",
              "1090    0\n",
              "1091    1\n",
              "1092    1\n",
              "\n",
              "[1093 rows x 1 columns]"
            ]
          },
          "execution_count": 12,
          "metadata": {},
          "output_type": "execute_result"
        }
      ],
      "source": [
        "y_test"
      ]
    }
  ],
  "metadata": {
    "colab": {
      "provenance": []
    },
    "kernelspec": {
      "display_name": "Python 3",
      "name": "python3"
    },
    "language_info": {
      "codemirror_mode": {
        "name": "ipython",
        "version": 3
      },
      "file_extension": ".py",
      "mimetype": "text/x-python",
      "name": "python",
      "nbconvert_exporter": "python",
      "pygments_lexer": "ipython3",
      "version": "3.13.0"
    }
  },
  "nbformat": 4,
  "nbformat_minor": 0
}
